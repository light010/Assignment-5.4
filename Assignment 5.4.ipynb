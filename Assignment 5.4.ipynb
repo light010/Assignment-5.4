{
 "cells": [
  {
   "cell_type": "code",
   "execution_count": null,
   "metadata": {
    "collapsed": true
   },
   "outputs": [],
   "source": [
    "import numpy as np"
   ]
  },
  {
   "cell_type": "code",
   "execution_count": null,
   "metadata": {
    "collapsed": true
   },
   "outputs": [],
   "source": [
    "arr = np.array([3, 5, 7, 2, 8, 10, 11, 65, 72, 81, 99, 100, 150])           #creating a numpy array"
   ]
  },
  {
   "cell_type": "code",
   "execution_count": null,
   "metadata": {},
   "outputs": [],
   "source": [
    "def moving_avg (arr, window):         #creating a function which takes array and window size as input\n",
    "    le = (len(arr) - window + 1)      #calculating the (index+1) position of array till which the iteration must go \n",
    "    \n",
    "    for i in range(le):\n",
    "        mean = arr[i:i+window].mean()              #calculating the mean of numbers, coming inside of corresspoding window \n",
    "        \n",
    "        a = str(tuple(arr[i+j] for j in range(window)))      #creating a string which consists all window's no. inside of brackets\n",
    "        a = a.replace(', ', '+')                                                  \n",
    "        print('y%i' %(i+1), '  ', i*'  ', '{:.2f}'.format(mean), ' = ', a, '/', window, sep='')    #limiting mean value for only 2 decimal place"
   ]
  },
  {
   "cell_type": "code",
   "execution_count": null,
   "metadata": {},
   "outputs": [],
   "source": [
    "moving_avg(arr, 3)"
   ]
  },
  {
   "cell_type": "code",
   "execution_count": null,
   "metadata": {
    "collapsed": true
   },
   "outputs": [],
   "source": []
  },
  {
   "cell_type": "code",
   "execution_count": null,
   "metadata": {
    "collapsed": true
   },
   "outputs": [],
   "source": []
  }
 ],
 "metadata": {
  "kernelspec": {
   "display_name": "Python 3",
   "language": "python",
   "name": "python3"
  },
  "language_info": {
   "codemirror_mode": {
    "name": "ipython",
    "version": 3
   },
   "file_extension": ".py",
   "mimetype": "text/x-python",
   "name": "python",
   "nbconvert_exporter": "python",
   "pygments_lexer": "ipython3",
   "version": "3.6.3"
  }
 },
 "nbformat": 4,
 "nbformat_minor": 2
}
